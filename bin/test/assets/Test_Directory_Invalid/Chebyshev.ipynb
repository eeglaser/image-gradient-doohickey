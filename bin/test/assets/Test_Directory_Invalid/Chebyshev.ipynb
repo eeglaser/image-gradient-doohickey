{
 "cells": [
  {
   "cell_type": "markdown",
   "metadata": {},
   "source": [
    "# Chebyshev center\n",
    "\n",
    "Find the center and radius of the largest sphere that fits inside the polyhedron defined by the inequalities\n",
    "$$ \\left\\{ 2 x_1 - x_2 + 2 x_3 \\le 2,\\quad\n",
    "-x_1 + 2 x_2 + 4 x_3 \\le 16,\\quad\n",
    "x_1 + 2 x_2 - 2 x_3 \\le 8,\\quad\n",
    "x_1 \\ge 0,\\,\n",
    "x_2 \\ge 0,\\,\n",
    "x_3 \\ge 0 \\right\\}$$"
   ]
  },
  {
   "cell_type": "markdown",
   "metadata": {},
   "source": [
    "## Optimization problem formulation"
   ]
  },
  {
   "cell_type": "markdown",
   "metadata": {},
   "source": [
    "The Chebyshev center problem can be formulated as the following linear program:\n",
    "\n",
    "$\\max_{x,r} ~~r $\n",
    "\n",
    "subject to\n",
    "\n",
    "$ a_jx + ||a_j||r\\leq b_j\\quad$ for $j=1,...,6$ \n",
    "\n",
    "where the vectors $a$ are the normal vector for each hyperplane and $b$ is the constant on the right hand side.\n",
    "\n",
    "$a_1 = [ 2~~-\\!1~~2]$,\n",
    "\n",
    "$a_2 = [ -\\!1~~2~~4]$, \n",
    "\n",
    "$a_3 = [ 1~~2~~-\\!2]$, \n",
    "\n",
    "$a_4 = [ -\\!1~~0~~0]$, \n",
    "\n",
    "$a_5 = [ 0~~-\\!1~~0]$, \n",
    "\n",
    "$a_6 = [ 0~~0~~-\\!1]$, and\n",
    "\n",
    "$b = [2~~16~~8~~0~~0~~0]$."
   ]
  },
  {
   "cell_type": "markdown",
   "metadata": {},
   "source": [
    "## JuMP implementation"
   ]
  },
  {
   "cell_type": "code",
   "execution_count": null,
   "metadata": {},
   "outputs": [],
   "source": [
    "# If you haven't yet installed the linear algebra package, do the standard thing:\n",
    "using Pkg\n",
    "Pkg.add(\"LinearAlgebra\")"
   ]
  },
  {
   "cell_type": "code",
   "execution_count": null,
   "metadata": {},
   "outputs": [],
   "source": [
    "# Matrices A, b defining the inequalities (each row vector is a normal vector to a hyperplane!)\n",
    "A = [2 -1 2; -1 2 4; 1 2 -2; -1 0 0; 0 -1 0; 0 0 -1];\n",
    "b = [2; 16; 8; 0; 0; 0]\n",
    "\n",
    "using JuMP, HiGHS, LinearAlgebra\n",
    "\n",
    "m = Model(HiGHS.Optimizer)\n",
    "@variable(m, r >= 0)           # radius of the sphere\n",
    "@variable(m, x[1:3]>=0)           # coordinates of center\n",
    "for i = 1:size(A,1) # number of rows\n",
    "    @constraint(m, A[i,:]'*x + r*norm(A[i,:]) <= b[i]) # Note fancy matlab style notation\n",
    "end\n",
    "@objective(m, Max, r)     # maximize radius of the sphere\n",
    "\n",
    "optimize!(m)\n",
    "center = value.(x)\n",
    "radius = value(r)\n",
    "\n",
    "println(\"HiGHS LP solver terminated with status \", termination_status(m))\n",
    "println(\"The coordinates of the Chebyshev center are: \", center)\n",
    "println(\"The largest possible radius is: \", radius)"
   ]
  },
  {
   "cell_type": "code",
   "execution_count": null,
   "metadata": {},
   "outputs": [],
   "source": []
  }
 ],
 "metadata": {
  "@webio": {
   "lastCommId": null,
   "lastKernelId": null
  },
  "kernelspec": {
   "display_name": "Julia 1.10.0",
   "language": "julia",
   "name": "julia-1.10"
  },
  "language_info": {
   "file_extension": ".jl",
   "mimetype": "application/julia",
   "name": "julia",
   "version": "1.10.0"
  }
 },
 "nbformat": 4,
 "nbformat_minor": 1
}
